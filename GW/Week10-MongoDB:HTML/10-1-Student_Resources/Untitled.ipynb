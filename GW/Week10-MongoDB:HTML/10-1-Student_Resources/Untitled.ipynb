{
 "cells": [
  {
   "cell_type": "code",
   "execution_count": 2,
   "id": "40d6625e",
   "metadata": {},
   "outputs": [],
   "source": [
    "from bs4 import BeautifulSoup as bs"
   ]
  },
  {
   "cell_type": "code",
   "execution_count": 6,
   "id": "28b12eec",
   "metadata": {},
   "outputs": [],
   "source": [
    "html_string = \"\"\"\n",
    "<html>\n",
    "<head>\n",
    "<title>\n",
    "A simple HTML Doc\n",
    "</title>\n",
    "</head>\n",
    "<body>\n",
    "<p>This is body</p>\n",
    "<p>It only has 2 paragraph</p>\n",
    "</body>\n",
    "</html>\n",
    "\n",
    "\"\"\""
   ]
  },
  {
   "cell_type": "code",
   "execution_count": 7,
   "id": "80952ce8",
   "metadata": {
    "scrolled": true
   },
   "outputs": [
    {
     "data": {
      "text/plain": [
       "\n",
       "<html>\n",
       "<head>\n",
       "<title>\n",
       "A simple HTML Doc\n",
       "</title>\n",
       "</head>\n",
       "<body>\n",
       "<p>This is body</p>\n",
       "<p>It only has 2 paragraph</p>\n",
       "</body>\n",
       "</html>"
      ]
     },
     "execution_count": 7,
     "metadata": {},
     "output_type": "execute_result"
    }
   ],
   "source": [
    "soup = bs(html_string, \"html.parser\")\n",
    "soup"
   ]
  },
  {
   "cell_type": "code",
   "execution_count": 8,
   "id": "54618fcf",
   "metadata": {
    "scrolled": true
   },
   "outputs": [
    {
     "name": "stdout",
     "output_type": "stream",
     "text": [
      "<html>\n",
      " <head>\n",
      "  <title>\n",
      "   A simple HTML Doc\n",
      "  </title>\n",
      " </head>\n",
      " <body>\n",
      "  <p>\n",
      "   This is body\n",
      "  </p>\n",
      "  <p>\n",
      "   It only has 2 paragraph\n",
      "  </p>\n",
      " </body>\n",
      "</html>\n",
      "\n"
     ]
    }
   ],
   "source": [
    "print(soup.prettify())"
   ]
  },
  {
   "cell_type": "code",
   "execution_count": 9,
   "id": "65b991fe",
   "metadata": {},
   "outputs": [
    {
     "data": {
      "text/plain": [
       "<title>\n",
       "A simple HTML Doc\n",
       "</title>"
      ]
     },
     "execution_count": 9,
     "metadata": {},
     "output_type": "execute_result"
    }
   ],
   "source": [
    "#Extract anything:\n",
    "soup.title"
   ]
  },
  {
   "cell_type": "code",
   "execution_count": 13,
   "id": "dc0ecbd3",
   "metadata": {},
   "outputs": [
    {
     "data": {
      "text/plain": [
       "'A simple HTML Doc'"
      ]
     },
     "execution_count": 13,
     "metadata": {},
     "output_type": "execute_result"
    }
   ],
   "source": [
    "#without the tag\n",
    "soup.title.text.strip()"
   ]
  },
  {
   "cell_type": "code",
   "execution_count": 15,
   "id": "e82077e1",
   "metadata": {},
   "outputs": [
    {
     "data": {
      "text/plain": [
       "'This is body'"
      ]
     },
     "execution_count": 15,
     "metadata": {},
     "output_type": "execute_result"
    }
   ],
   "source": [
    "soup.p.text.strip()"
   ]
  },
  {
   "cell_type": "code",
   "execution_count": 16,
   "id": "6329b35d",
   "metadata": {},
   "outputs": [
    {
     "data": {
      "text/plain": [
       "[<p>This is body</p>, <p>It only has 2 paragraph</p>]"
      ]
     },
     "execution_count": 16,
     "metadata": {},
     "output_type": "execute_result"
    }
   ],
   "source": [
    "soup.body.find_all('p')"
   ]
  },
  {
   "cell_type": "code",
   "execution_count": 22,
   "id": "b5df0140",
   "metadata": {},
   "outputs": [
    {
     "data": {
      "text/plain": [
       "'This is body'"
      ]
     },
     "execution_count": 22,
     "metadata": {},
     "output_type": "execute_result"
    }
   ],
   "source": [
    "soup.body.find_all('p')[0].text"
   ]
  },
  {
   "cell_type": "code",
   "execution_count": 23,
   "id": "9eeef9cf",
   "metadata": {},
   "outputs": [],
   "source": [
    "url = \"https://washingtondc.craigslist.org/d/for-sale/search/sss?query=guitar&sort=rel\""
   ]
  },
  {
   "cell_type": "code",
   "execution_count": null,
   "id": "dfae9804",
   "metadata": {},
   "outputs": [],
   "source": []
  }
 ],
 "metadata": {
  "kernelspec": {
   "display_name": "Python 3",
   "language": "python",
   "name": "python3"
  },
  "language_info": {
   "codemirror_mode": {
    "name": "ipython",
    "version": 3
   },
   "file_extension": ".py",
   "mimetype": "text/x-python",
   "name": "python",
   "nbconvert_exporter": "python",
   "pygments_lexer": "ipython3",
   "version": "3.8.8"
  }
 },
 "nbformat": 4,
 "nbformat_minor": 5
}
