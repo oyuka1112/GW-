{
 "cells": [
  {
   "cell_type": "code",
   "execution_count": null,
   "id": "6b9a3c87",
   "metadata": {},
   "outputs": [],
   "source": [
    "#Create ETL pipeline\n",
    "#SQL database\n",
    "#lambda function\n",
    "#\n",
    "#list comprehension"
   ]
  },
  {
   "cell_type": "code",
   "execution_count": 5,
   "id": "876925e2",
   "metadata": {},
   "outputs": [
    {
     "name": "stdout",
     "output_type": "stream",
     "text": [
      "Here is chicken and topping of sour cream\n"
     ]
    }
   ],
   "source": [
    "# simple function w no parametr\n",
    "def make_q(protein, topping):\n",
    "    print(f'Here is {protein} and topping of {topping}')\n",
    "make_q('chicken','sour cream')"
   ]
  },
  {
   "cell_type": "code",
   "execution_count": 7,
   "id": "32018ce4",
   "metadata": {},
   "outputs": [
    {
     "data": {
      "text/plain": [
       "36"
      ]
     },
     "execution_count": 7,
     "metadata": {},
     "output_type": "execute_result"
    }
   ],
   "source": [
    "def square(oyuka):\n",
    "    return oyuka**2\n",
    "square(6)"
   ]
  },
  {
   "cell_type": "code",
   "execution_count": 9,
   "id": "dafc2911",
   "metadata": {},
   "outputs": [],
   "source": [
    "\n",
    "# movies_df.apply(lambda row: row['budget'] == 0, axis = 1)"
   ]
  },
  {
   "cell_type": "code",
   "execution_count": 10,
   "id": "8a56eeee",
   "metadata": {},
   "outputs": [],
   "source": [
    "#list comprehension\n",
    "#[expression for element in source_list filter_expression]\n",
    "#[dog for dog in dogs if dog[weight]>30]\n",
    "\n"
   ]
  },
  {
   "cell_type": "code",
   "execution_count": 13,
   "id": "9577a412",
   "metadata": {
    "scrolled": true
   },
   "outputs": [
    {
     "name": "stdout",
     "output_type": "stream",
     "text": [
      "[0, 2, 4, 6, 8, 10, 12, 14, 16, 18, 20, 22, 24, 26, 28, 30, 32, 34, 36, 38, 40, 42, 44, 46, 48, 50, 52, 54, 56, 58, 60, 62, 64, 66, 68, 70, 72, 74, 76, 78, 80, 82, 84, 86, 88, 90, 92, 94, 96, 98]\n"
     ]
    }
   ],
   "source": [
    "a = []\n",
    "for i in range(100):\n",
    "    if i %2 ==0:\n",
    "        a.append(i)\n",
    "print(a)"
   ]
  },
  {
   "cell_type": "code",
   "execution_count": 14,
   "id": "875e3b97",
   "metadata": {
    "scrolled": true
   },
   "outputs": [
    {
     "data": {
      "text/plain": [
       "[0,\n",
       " 2,\n",
       " 4,\n",
       " 6,\n",
       " 8,\n",
       " 10,\n",
       " 12,\n",
       " 14,\n",
       " 16,\n",
       " 18,\n",
       " 20,\n",
       " 22,\n",
       " 24,\n",
       " 26,\n",
       " 28,\n",
       " 30,\n",
       " 32,\n",
       " 34,\n",
       " 36,\n",
       " 38,\n",
       " 40,\n",
       " 42,\n",
       " 44,\n",
       " 46,\n",
       " 48,\n",
       " 50,\n",
       " 52,\n",
       " 54,\n",
       " 56,\n",
       " 58,\n",
       " 60,\n",
       " 62,\n",
       " 64,\n",
       " 66,\n",
       " 68,\n",
       " 70,\n",
       " 72,\n",
       " 74,\n",
       " 76,\n",
       " 78,\n",
       " 80,\n",
       " 82,\n",
       " 84,\n",
       " 86,\n",
       " 88,\n",
       " 90,\n",
       " 92,\n",
       " 94,\n",
       " 96,\n",
       " 98]"
      ]
     },
     "execution_count": 14,
     "metadata": {},
     "output_type": "execute_result"
    }
   ],
   "source": [
    "[x for x in range(100) if x%2==0]"
   ]
  },
  {
   "cell_type": "code",
   "execution_count": 18,
   "id": "0330514b",
   "metadata": {},
   "outputs": [
    {
     "data": {
      "text/plain": [
       "['snickersF']"
      ]
     },
     "execution_count": 18,
     "metadata": {},
     "output_type": "execute_result"
    }
   ],
   "source": [
    "candies = [{'name':\"snickers\", \"has_chocolate\":True},\n",
    "{'name':\"snickersF\", \"has_chocolate\":False},\n",
    "{'name':\"snickers\", \"has_chocolate\":True}]\n",
    "\n",
    "[candy['name'] for candy in candies if candy['has_chocolate']== False] \n",
    "#candy is the list"
   ]
  },
  {
   "cell_type": "code",
   "execution_count": null,
   "id": "761f179a",
   "metadata": {},
   "outputs": [],
   "source": []
  }
 ],
 "metadata": {
  "kernelspec": {
   "display_name": "PythonData",
   "language": "python",
   "name": "pythondata"
  },
  "language_info": {
   "codemirror_mode": {
    "name": "ipython",
    "version": 3
   },
   "file_extension": ".py",
   "mimetype": "text/x-python",
   "name": "python",
   "nbconvert_exporter": "python",
   "pygments_lexer": "ipython3",
   "version": "3.8.8"
  }
 },
 "nbformat": 4,
 "nbformat_minor": 5
}
