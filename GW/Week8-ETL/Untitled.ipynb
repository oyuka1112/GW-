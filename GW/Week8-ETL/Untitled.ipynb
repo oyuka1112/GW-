{
 "cells": [
  {
   "cell_type": "code",
   "execution_count": 1,
   "id": "b44d7ad6",
   "metadata": {},
   "outputs": [],
   "source": [
    "import pandas as pd\n"
   ]
  },
  {
   "cell_type": "code",
   "execution_count": null,
   "id": "204ea910",
   "metadata": {},
   "outputs": [],
   "source": [
    "p = \"w\\wought\"\n",
    "df[df[\"column\"].str.contains(p)]"
   ]
  },
  {
   "cell_type": "code",
   "execution_count": null,
   "id": "2fcedbc3",
   "metadata": {},
   "outputs": [],
   "source": [
    "df = pd.read_csv(\"..\")"
   ]
  },
  {
   "cell_type": "code",
   "execution_count": null,
   "id": "73db225e",
   "metadata": {},
   "outputs": [],
   "source": [
    "p = '[bfs]ought\\.' \\. considered as period\n"
   ]
  },
  {
   "cell_type": "code",
   "execution_count": null,
   "id": "8c1282a1",
   "metadata": {},
   "outputs": [],
   "source": [
    "#Grouping\n",
    "p = \"Holmes\\s\\w{6}\\s\" #space is \\s add exactly 6 space"
   ]
  },
  {
   "cell_type": "code",
   "execution_count": null,
   "id": "aebfef2a",
   "metadata": {},
   "outputs": [],
   "source": [
    "p = \"Holmes\\s\\w{4,6}\\s\" {4,6} range"
   ]
  },
  {
   "cell_type": "code",
   "execution_count": null,
   "id": "20c89fb3",
   "metadata": {},
   "outputs": [],
   "source": [
    "p = \"Holmes\\s\\w{6,}\\s\" at least 6"
   ]
  },
  {
   "cell_type": "code",
   "execution_count": null,
   "id": "05492e1a",
   "metadata": {},
   "outputs": [],
   "source": [
    "p = '(Holmes)(\\s\\w{6,})' #each () is column\n",
    "\n",
    "df = df[\"column\"].str.extractall(p)"
   ]
  },
  {
   "cell_type": "code",
   "execution_count": null,
   "id": "017d5424",
   "metadata": {},
   "outputs": [],
   "source": [
    "import re\n",
    "p = '(Holmes)(\\s\\w{6,})' #each () is column\n",
    "\n",
    "df = df[\"column\"].str.extractall(p, flags=re.I).dropna() \n",
    "#non case sensetive lower or upper re.I\n",
    "p = '\\W(z\\w+)' \\w+ 1 or more\n",
    "(?:Holmes) match but not extract\n",
    "\n",
    "\n",
    "#all words 6 letters or more that dont end in \"ly\" that come after \"Holmes\"\n",
    "(?:Holmes)(?!.*)((\\s\\w{6,})) \n",
    "?! anything except "
   ]
  }
 ],
 "metadata": {
  "kernelspec": {
   "display_name": "PythonData",
   "language": "python",
   "name": "pythondata"
  },
  "language_info": {
   "codemirror_mode": {
    "name": "ipython",
    "version": 3
   },
   "file_extension": ".py",
   "mimetype": "text/x-python",
   "name": "python",
   "nbconvert_exporter": "python",
   "pygments_lexer": "ipython3",
   "version": "3.8.8"
  }
 },
 "nbformat": 4,
 "nbformat_minor": 5
}
