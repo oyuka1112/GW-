{
 "cells": [
  {
   "cell_type": "code",
   "execution_count": 2,
   "id": "e66fcddd",
   "metadata": {},
   "outputs": [],
   "source": [
    "import requests\n",
    "import json"
   ]
  },
  {
   "cell_type": "code",
   "execution_count": 5,
   "id": "dbd541fa",
   "metadata": {},
   "outputs": [
    {
     "data": {
      "text/plain": [
       "<Response [200]>"
      ]
     },
     "execution_count": 5,
     "metadata": {},
     "output_type": "execute_result"
    }
   ],
   "source": [
    "url = \"https://api.spacexdata.com/v2/launchpads\"\n",
    "requests.get(url) ##200 is good url exists"
   ]
  },
  {
   "cell_type": "code",
   "execution_count": 12,
   "id": "681390c7",
   "metadata": {},
   "outputs": [
    {
     "data": {
      "text/plain": [
       "[{'padid': 5,\n",
       "  'id': 'vafb_slc_3w',\n",
       "  'name': 'VAFB SLC 3W',\n",
       "  'full_name': 'Vandenberg Air Force Base Space Launch Complex 3W',\n",
       "  'status': 'retired',\n",
       "  'location': {'name': 'Vandenberg Air Force Base',\n",
       "   'region': 'California',\n",
       "   'latitude': 34.6440904,\n",
       "   'longitude': -120.5931438},\n",
       "  'vehicles_launched': ['Falcon 1'],\n",
       "  'attempted_launches': 0,\n",
       "  'successful_launches': 0,\n",
       "  'wikipedia': 'https://en.wikipedia.org/wiki/Vandenberg_AFB_Space_Launch_Complex_3',\n",
       "  'details': 'SpaceX original west coast launch pad for Falcon 1. Performed a static fire but was never used for a launch and abandoned due to scheduling conflicts.'},\n",
       " {'padid': 2,\n",
       "  'id': 'ccafs_slc_40',\n",
       "  'name': 'CCAFS SLC 40',\n",
       "  'full_name': 'Cape Canaveral Air Force Station Space Launch Complex 40',\n",
       "  'status': 'active',\n",
       "  'location': {'name': 'Cape Canaveral',\n",
       "   'region': 'Florida',\n",
       "   'latitude': 28.5618571,\n",
       "   'longitude': -80.577366},\n",
       "  'vehicles_launched': ['Falcon 9'],\n",
       "  'attempted_launches': 61,\n",
       "  'successful_launches': 59,\n",
       "  'wikipedia': 'https://en.wikipedia.org/wiki/Cape_Canaveral_Air_Force_Station_Space_Launch_Complex_40',\n",
       "  'details': 'SpaceX primary Falcon 9 launch pad, where all east coast Falcon 9s launched prior to the AMOS-6 anomaly. Initially used to launch Titan rockets for Lockheed Martin. Back online since CRS-13 on 2017-12-15.'},\n",
       " {'padid': 8,\n",
       "  'id': 'stls',\n",
       "  'name': 'STLS',\n",
       "  'full_name': 'SpaceX South Texas Launch Site',\n",
       "  'status': 'under construction',\n",
       "  'location': {'name': 'Boca Chica Village',\n",
       "   'region': 'Texas',\n",
       "   'latitude': 25.9972641,\n",
       "   'longitude': -97.1560845},\n",
       "  'vehicles_launched': ['Falcon 9'],\n",
       "  'attempted_launches': 0,\n",
       "  'successful_launches': 0,\n",
       "  'wikipedia': 'https://en.wikipedia.org/wiki/SpaceX_South_Texas_Launch_Site',\n",
       "  'details': 'SpaceX new launch site currently under construction to help keep up with the Falcon 9 and Heavy manifests. Expected to be completed in late 2018. Initially will be limited to 12 flights per year, and only GTO launches.'},\n",
       " {'padid': 1,\n",
       "  'id': 'kwajalein_atoll',\n",
       "  'name': 'Kwajalein Atoll',\n",
       "  'full_name': 'Kwajalein Atoll Omelek Island',\n",
       "  'status': 'retired',\n",
       "  'location': {'name': 'Omelek Island',\n",
       "   'region': 'Marshall Islands',\n",
       "   'latitude': 9.0477206,\n",
       "   'longitude': 167.7431292},\n",
       "  'vehicles_launched': ['Falcon 1'],\n",
       "  'attempted_launches': 5,\n",
       "  'successful_launches': 2,\n",
       "  'wikipedia': 'https://en.wikipedia.org/wiki/Omelek_Island',\n",
       "  'details': 'SpaceX original launch site, where all of the Falcon 1 launches occured. Abandoned as SpaceX decided against upgrading the pad to support Falcon 9.'},\n",
       " {'padid': 6,\n",
       "  'id': 'vafb_slc_4e',\n",
       "  'name': 'VAFB SLC 4E',\n",
       "  'full_name': 'Vandenberg Air Force Base Space Launch Complex 4E',\n",
       "  'status': 'active',\n",
       "  'location': {'name': 'Vandenberg Air Force Base',\n",
       "   'region': 'California',\n",
       "   'latitude': 34.632093,\n",
       "   'longitude': -120.610829},\n",
       "  'vehicles_launched': ['Falcon 9'],\n",
       "  'attempted_launches': 16,\n",
       "  'successful_launches': 16,\n",
       "  'wikipedia': 'https://en.wikipedia.org/wiki/Vandenberg_AFB_Space_Launch_Complex_4',\n",
       "  'details': 'SpaceX primary west coast launch pad for polar orbits and sun synchronous orbits, primarily used for Iridium. Also intended to be capable of launching Falcon Heavy.'},\n",
       " {'padid': 4,\n",
       "  'id': 'ksc_lc_39a',\n",
       "  'name': 'KSC LC 39A',\n",
       "  'full_name': 'Kennedy Space Center Historic Launch Complex 39A',\n",
       "  'status': 'active',\n",
       "  'location': {'name': 'Cape Canaveral',\n",
       "   'region': 'Florida',\n",
       "   'latitude': 28.6080585,\n",
       "   'longitude': -80.6039558},\n",
       "  'vehicles_launched': ['Falcon 9', 'Falcon Heavy'],\n",
       "  'attempted_launches': 27,\n",
       "  'successful_launches': 26,\n",
       "  'wikipedia': 'https://en.wikipedia.org/wiki/Kennedy_Space_Center_Launch_Complex_39#Launch_Complex_39A',\n",
       "  'details': 'NASA historic launch pad that launched most of the Saturn V and Space Shuttle missions. Initially for Falcon Heavy launches, it is now launching all of SpaceX east coast missions due to the damage from the AMOS-6 anomaly. After SLC-40 repairs are complete, it will be upgraded to support Falcon Heavy, a process which will take about two months. In the future it will launch commercial crew missions and the Interplanetary Transport System.'}]"
      ]
     },
     "execution_count": 12,
     "metadata": {},
     "output_type": "execute_result"
    }
   ],
   "source": [
    "aa = requests.get(url).json()\n",
    "# data = aa.json()\n",
    "aa"
   ]
  },
  {
   "cell_type": "code",
   "execution_count": 17,
   "id": "2e518240",
   "metadata": {
    "scrolled": false
   },
   "outputs": [
    {
     "name": "stdout",
     "output_type": "stream",
     "text": [
      "[\n",
      "    {\n",
      "        \"attempted_launches\": 0,\n",
      "        \"details\": \"SpaceX original west coast launch pad for Falcon 1. Performed a static fire but was never used for a launch and abandoned due to scheduling conflicts.\",\n",
      "        \"full_name\": \"Vandenberg Air Force Base Space Launch Complex 3W\",\n",
      "        \"id\": \"vafb_slc_3w\",\n",
      "        \"location\": {\n",
      "            \"latitude\": 34.6440904,\n",
      "            \"longitude\": -120.5931438,\n",
      "            \"name\": \"Vandenberg Air Force Base\",\n",
      "            \"region\": \"California\"\n",
      "        },\n",
      "        \"name\": \"VAFB SLC 3W\",\n",
      "        \"padid\": 5,\n",
      "        \"status\": \"retired\",\n",
      "        \"successful_launches\": 0,\n",
      "        \"vehicles_launched\": [\n",
      "            \"Falcon 1\"\n",
      "        ],\n",
      "        \"wikipedia\": \"https://en.wikipedia.org/wiki/Vandenberg_AFB_Space_Launch_Complex_3\"\n",
      "    },\n",
      "    {\n",
      "        \"attempted_launches\": 61,\n",
      "        \"details\": \"SpaceX primary Falcon 9 launch pad, where all east coast Falcon 9s launched prior to the AMOS-6 anomaly. Initially used to launch Titan rockets for Lockheed Martin. Back online since CRS-13 on 2017-12-15.\",\n",
      "        \"full_name\": \"Cape Canaveral Air Force Station Space Launch Complex 40\",\n",
      "        \"id\": \"ccafs_slc_40\",\n",
      "        \"location\": {\n",
      "            \"latitude\": 28.5618571,\n",
      "            \"longitude\": -80.577366,\n",
      "            \"name\": \"Cape Canaveral\",\n",
      "            \"region\": \"Florida\"\n",
      "        },\n",
      "        \"name\": \"CCAFS SLC 40\",\n",
      "        \"padid\": 2,\n",
      "        \"status\": \"active\",\n",
      "        \"successful_launches\": 59,\n",
      "        \"vehicles_launched\": [\n",
      "            \"Falcon 9\"\n",
      "        ],\n",
      "        \"wikipedia\": \"https://en.wikipedia.org/wiki/Cape_Canaveral_Air_Force_Station_Space_Launch_Complex_40\"\n",
      "    },\n",
      "    {\n",
      "        \"attempted_launches\": 0,\n",
      "        \"details\": \"SpaceX new launch site currently under construction to help keep up with the Falcon 9 and Heavy manifests. Expected to be completed in late 2018. Initially will be limited to 12 flights per year, and only GTO launches.\",\n",
      "        \"full_name\": \"SpaceX South Texas Launch Site\",\n",
      "        \"id\": \"stls\",\n",
      "        \"location\": {\n",
      "            \"latitude\": 25.9972641,\n",
      "            \"longitude\": -97.1560845,\n",
      "            \"name\": \"Boca Chica Village\",\n",
      "            \"region\": \"Texas\"\n",
      "        },\n",
      "        \"name\": \"STLS\",\n",
      "        \"padid\": 8,\n",
      "        \"status\": \"under construction\",\n",
      "        \"successful_launches\": 0,\n",
      "        \"vehicles_launched\": [\n",
      "            \"Falcon 9\"\n",
      "        ],\n",
      "        \"wikipedia\": \"https://en.wikipedia.org/wiki/SpaceX_South_Texas_Launch_Site\"\n",
      "    },\n",
      "    {\n",
      "        \"attempted_launches\": 5,\n",
      "        \"details\": \"SpaceX original launch site, where all of the Falcon 1 launches occured. Abandoned as SpaceX decided against upgrading the pad to support Falcon 9.\",\n",
      "        \"full_name\": \"Kwajalein Atoll Omelek Island\",\n",
      "        \"id\": \"kwajalein_atoll\",\n",
      "        \"location\": {\n",
      "            \"latitude\": 9.0477206,\n",
      "            \"longitude\": 167.7431292,\n",
      "            \"name\": \"Omelek Island\",\n",
      "            \"region\": \"Marshall Islands\"\n",
      "        },\n",
      "        \"name\": \"Kwajalein Atoll\",\n",
      "        \"padid\": 1,\n",
      "        \"status\": \"retired\",\n",
      "        \"successful_launches\": 2,\n",
      "        \"vehicles_launched\": [\n",
      "            \"Falcon 1\"\n",
      "        ],\n",
      "        \"wikipedia\": \"https://en.wikipedia.org/wiki/Omelek_Island\"\n",
      "    },\n",
      "    {\n",
      "        \"attempted_launches\": 16,\n",
      "        \"details\": \"SpaceX primary west coast launch pad for polar orbits and sun synchronous orbits, primarily used for Iridium. Also intended to be capable of launching Falcon Heavy.\",\n",
      "        \"full_name\": \"Vandenberg Air Force Base Space Launch Complex 4E\",\n",
      "        \"id\": \"vafb_slc_4e\",\n",
      "        \"location\": {\n",
      "            \"latitude\": 34.632093,\n",
      "            \"longitude\": -120.610829,\n",
      "            \"name\": \"Vandenberg Air Force Base\",\n",
      "            \"region\": \"California\"\n",
      "        },\n",
      "        \"name\": \"VAFB SLC 4E\",\n",
      "        \"padid\": 6,\n",
      "        \"status\": \"active\",\n",
      "        \"successful_launches\": 16,\n",
      "        \"vehicles_launched\": [\n",
      "            \"Falcon 9\"\n",
      "        ],\n",
      "        \"wikipedia\": \"https://en.wikipedia.org/wiki/Vandenberg_AFB_Space_Launch_Complex_4\"\n",
      "    },\n",
      "    {\n",
      "        \"attempted_launches\": 27,\n",
      "        \"details\": \"NASA historic launch pad that launched most of the Saturn V and Space Shuttle missions. Initially for Falcon Heavy launches, it is now launching all of SpaceX east coast missions due to the damage from the AMOS-6 anomaly. After SLC-40 repairs are complete, it will be upgraded to support Falcon Heavy, a process which will take about two months. In the future it will launch commercial crew missions and the Interplanetary Transport System.\",\n",
      "        \"full_name\": \"Kennedy Space Center Historic Launch Complex 39A\",\n",
      "        \"id\": \"ksc_lc_39a\",\n",
      "        \"location\": {\n",
      "            \"latitude\": 28.6080585,\n",
      "            \"longitude\": -80.6039558,\n",
      "            \"name\": \"Cape Canaveral\",\n",
      "            \"region\": \"Florida\"\n",
      "        },\n",
      "        \"name\": \"KSC LC 39A\",\n",
      "        \"padid\": 4,\n",
      "        \"status\": \"active\",\n",
      "        \"successful_launches\": 26,\n",
      "        \"vehicles_launched\": [\n",
      "            \"Falcon 9\",\n",
      "            \"Falcon Heavy\"\n",
      "        ],\n",
      "        \"wikipedia\": \"https://en.wikipedia.org/wiki/Kennedy_Space_Center_Launch_Complex_39#Launch_Complex_39A\"\n",
      "    }\n",
      "]\n"
     ]
    }
   ],
   "source": [
    "print(json.dumps(aa, indent = 4, sort_keys =True))"
   ]
  },
  {
   "cell_type": "code",
   "execution_count": 23,
   "id": "cff3a23a",
   "metadata": {},
   "outputs": [
    {
     "name": "stdout",
     "output_type": "stream",
     "text": [
      "Dont have this name\n",
      "Anything\n"
     ]
    }
   ],
   "source": [
    "#try-except\n",
    "students = {\n",
    "    \"James\":27,\n",
    "    \"Sara\":29,\n",
    "    \"Joce\":28\n",
    "    \n",
    "}\n",
    "try:\n",
    "    print(students[\"Oyuka\"])\n",
    "except KeyError:\n",
    "    print(\"Dont have this name\")\n",
    "\n",
    "print(\"Anything\")    "
   ]
  },
  {
   "cell_type": "code",
   "execution_count": 28,
   "id": "52b4cce5",
   "metadata": {},
   "outputs": [
    {
     "name": "stdout",
     "output_type": "stream",
     "text": [
      "denominator is 0\n",
      "NameError\n",
      "ValueError\n"
     ]
    }
   ],
   "source": [
    "try:\n",
    "    print(10/0)\n",
    "except ZeroDivisionError:\n",
    "    print(\"denominator is 0\")\n",
    "    \n",
    "try:\n",
    "    print(name)\n",
    "except NameError:\n",
    "    print(\"NameError\")\n",
    "    \n",
    "try:\n",
    "    print(int(\"Oyuka\"))\n",
    "except ValueError:\n",
    "    print(\"ValueError\")"
   ]
  },
  {
   "cell_type": "code",
   "execution_count": 31,
   "id": "fcbcfd7a",
   "metadata": {},
   "outputs": [],
   "source": []
  }
 ],
 "metadata": {
  "kernelspec": {
   "display_name": "PythonData",
   "language": "python",
   "name": "pythondata"
  },
  "language_info": {
   "codemirror_mode": {
    "name": "ipython",
    "version": 3
   },
   "file_extension": ".py",
   "mimetype": "text/x-python",
   "name": "python",
   "nbconvert_exporter": "python",
   "pygments_lexer": "ipython3",
   "version": "3.8.8"
  }
 },
 "nbformat": 4,
 "nbformat_minor": 5
}
