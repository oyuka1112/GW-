{
 "cells": [
  {
   "cell_type": "code",
   "execution_count": 1,
   "metadata": {
    "scrolled": true
   },
   "outputs": [],
   "source": [
    "# Dependencies\n",
    "import requests\n",
    "from config import api_key\n",
    "from pprint import pprint\n",
    "url = \"https://api.nytimes.com/svc/search/v2/articlesearch.json?\"\n",
    "\n",
    "# Store a search term\n",
    "query = \"vaccine\"\n",
    "\n",
    "# Search for articles published between a begin and end date\n",
    "\n",
    "\n",
    "# Build query url"
   ]
  },
  {
   "cell_type": "code",
   "execution_count": 2,
   "metadata": {},
   "outputs": [
    {
     "name": "stdout",
     "output_type": "stream",
     "text": [
      "https://api.nytimes.com/svc/search/v2/articlesearch.json?api-key=M8vdd3AixCGHaLfgj7qq9DREyW6Kak6b&q=vaccine\n"
     ]
    }
   ],
   "source": [
    "url1 = url+\"api-key=\"+ api_key + \"&q=\" + query\n",
    "print(url1)"
   ]
  },
  {
   "cell_type": "code",
   "execution_count": 5,
   "metadata": {},
   "outputs": [],
   "source": [
    "# Retrieve articles\n",
    "articles = requests.get(url1).json()\n",
    "# articles"
   ]
  },
  {
   "cell_type": "code",
   "execution_count": 12,
   "metadata": {},
   "outputs": [
    {
     "data": {
      "text/plain": [
       "dict_keys(['docs', 'meta'])"
      ]
     },
     "execution_count": 12,
     "metadata": {},
     "output_type": "execute_result"
    }
   ],
   "source": [
    "articles.keys()\n",
    "articles[\"response\"].keys()"
   ]
  },
  {
   "cell_type": "code",
   "execution_count": 18,
   "metadata": {
    "scrolled": true
   },
   "outputs": [
    {
     "data": {
      "text/plain": [
       "dict_keys(['abstract', 'web_url', 'snippet', 'lead_paragraph', 'print_section', 'print_page', 'source', 'multimedia', 'headline', 'keywords', 'pub_date', 'document_type', 'news_desk', 'section_name', 'byline', 'type_of_material', '_id', 'word_count', 'uri'])"
      ]
     },
     "execution_count": 18,
     "metadata": {},
     "output_type": "execute_result"
    }
   ],
   "source": [
    "articles[\"response\"][\"docs\"][0].keys()"
   ]
  },
  {
   "cell_type": "code",
   "execution_count": 19,
   "metadata": {
    "scrolled": true
   },
   "outputs": [
    {
     "data": {
      "text/plain": [
       "'Scientists have developed vaccines for cats and dogs, but vaccinating companion animals is not necessary, experts said.'"
      ]
     },
     "execution_count": 19,
     "metadata": {},
     "output_type": "execute_result"
    }
   ],
   "source": [
    "articles[\"response\"][\"docs\"][0][\"snippet\"]"
   ]
  },
  {
   "cell_type": "code",
   "execution_count": 22,
   "metadata": {
    "scrolled": true
   },
   "outputs": [
    {
     "name": "stdout",
     "output_type": "stream",
     "text": [
      "https://www.nytimes.com/2021/11/15/health/coronavirus-vaccine-cats-dogs-pets.html\n",
      "https://www.nytimes.com/video/world/europe/100000008086569/austria-lockdown-protests-covid-vaccine-mandate.html\n",
      "https://www.nytimes.com/2021/11/17/us/politics/biden-covid-vaccine-manufacturing.html\n",
      "https://www.nytimes.com/video/world/europe/100000008089573/guadeloupe-vaccine-mandate-protest.html\n",
      "https://www.nytimes.com/2021/11/20/world/africa/south-sudan-covid-flooding.html\n",
      "https://www.nytimes.com/video/world/europe/100000008085710/austria-covid-vaccine-mandate-for-all.html\n",
      "https://www.nytimes.com/2021/11/17/us/politics/oklahoma-vaccine-mandate.html\n",
      "https://www.nytimes.com/2021/11/17/us/florida-coronavirus-covid-19.html\n",
      "https://www.nytimes.com/2021/11/19/world/canada-vaccines-travel.html\n",
      "https://www.nytimes.com/2021/11/22/world/europe/germany-pfizer-vaccines-boosters.html\n"
     ]
    }
   ],
   "source": [
    "for i in range(10):\n",
    "    print(articles[\"response\"][\"docs\"][i][\"web_url\"])"
   ]
  },
  {
   "cell_type": "code",
   "execution_count": 24,
   "metadata": {},
   "outputs": [
    {
     "name": "stdout",
     "output_type": "stream",
     "text": [
      "Scientists have developed vaccines for cats and dogs, but vaccinating companion animals is not necessary, experts said.\n",
      "-----------\n",
      "Thousands in Vienna over the weekend demonstrated against the measures, which include a nationwide lockdown.\n",
      "-----------\n",
      "The Biden administration will spend billions of dollars on a new plan to combat the pandemic, investing in antiviral pills, rapid tests and manufacturing.\n",
      "-----------\n",
      "The protests in France’s Caribbean territory, fueled by longstanding social and economic frustrations, grew increasingly violent as protesters burned cars and looted businesses.\n",
      "-----------\n",
      "Much of South Sudan is under water from flooding induced by climate change and deforestation. Crops and livestock are lost, hunger and malaria are spreading. With so many worries, coronavirus vaccines are a tough sell.\n",
      "-----------\n",
      "The country became the first Western democracy to announce that it would require Covid vaccinations for its entire adult population.\n",
      "-----------\n",
      "The state says its National Guard members do not need to be vaccinated. Pentagon officials say a failure to follow “valid medical readiness requirements” could “jeopardize” the status of troops.\n",
      "-----------\n",
      "Florida lawmakers, at the request of Gov. Ron DeSantis, passed new laws sharply curtailing mask and vaccine mandates. Fringe anti-vaccination views met with little pushback.\n",
      "-----------\n",
      "Officials also removed a test requirement for eligible travelers re-entering Canada within 72 hours.\n",
      "-----------\n",
      "A strong fourth Covid wave has led to a renewed run on vaccines.\n",
      "-----------\n"
     ]
    }
   ],
   "source": [
    "for i in range(10):\n",
    "    print(articles[\"response\"][\"docs\"][i][\"snippet\"])\n",
    "    print(\"-----------\")"
   ]
  },
  {
   "cell_type": "code",
   "execution_count": null,
   "metadata": {},
   "outputs": [],
   "source": [
    "# BONUS: How would we get 30 results? \n",
    "# HINT: Look up the page query param"
   ]
  }
 ],
 "metadata": {
  "kernelspec": {
   "display_name": "Python 3",
   "language": "python",
   "name": "python3"
  },
  "language_info": {
   "codemirror_mode": {
    "name": "ipython",
    "version": 3
   },
   "file_extension": ".py",
   "mimetype": "text/x-python",
   "name": "python",
   "nbconvert_exporter": "python",
   "pygments_lexer": "ipython3",
   "version": "3.8.8"
  },
  "varInspector": {
   "cols": {
    "lenName": 16,
    "lenType": 16,
    "lenVar": 40
   },
   "kernels_config": {
    "python": {
     "delete_cmd_postfix": "",
     "delete_cmd_prefix": "del ",
     "library": "var_list.py",
     "varRefreshCmd": "print(var_dic_list())"
    },
    "r": {
     "delete_cmd_postfix": ") ",
     "delete_cmd_prefix": "rm(",
     "library": "var_list.r",
     "varRefreshCmd": "cat(var_dic_list()) "
    }
   },
   "types_to_exclude": [
    "module",
    "function",
    "builtin_function_or_method",
    "instance",
    "_Feature"
   ],
   "window_display": false
  }
 },
 "nbformat": 4,
 "nbformat_minor": 2
}
